{
 "cells": [
  {
   "cell_type": "markdown",
   "metadata": {},
   "source": [
    "<center>\n",
    "<h1 align=\"center\">Laboratorio de Estadística Computacional <br>con Python</h1>\n",
    "<img src=\"https://raw.githubusercontent.com/sborquez/Python-LEC/master/resources/main-image-python.png\" width=\"60%\">\n",
    "    \n",
    "<h2 align=\"center\">Tema 2: Vectores, Variables Aleatorias y Probabilidad </h2>\n",
    "<i>Notebook creado por Sebastián Bórquez G. - <a href=\"mailto://sebastian.borquez.g@gmail.com\" > sebastian.borquez.g@gmail.com</a> - DI UTFSM - Abril 2019.</i>\n",
    "</center>\n",
    "\n",
    "## Tabla de Contenido\n",
    "\n",
    "* [Introducción a NumPy](#2.1)\n",
    "    * [NumPy ndarray: El Objeto Arreglo Multidimensional](#2.1.1)\n",
    "    * [Random sampling](#2.1.2)\n",
    "* [Simulaciones](#2.2)\n",
    "    * [Random Walk](#2.2.1)\n",
    "* [Naive Bayes](#2.3)\n",
    "    * [Sport day case](#2.3.1)\n",
    "    "
   ]
  },
  {
   "cell_type": "markdown",
   "metadata": {},
   "source": [
    "<div id=\"2.1\"></div>\n",
    "\n",
    "## Introducción a NumPy\n",
    "<img src=\"http://www.numpy.org/_static/numpy_logo.png\" width=\"40%\"></img>\n",
    "\n",
    "**[NumPy](http://www.numpy.org/)\n",
    " (Numeric Python)** es el módulo de Python para el cálculo científico, incluye soporte para el uso de **arrays n dimensionales (ndarray)**, un rápido y eficiente  arreglo multidimensional provisto de operaciones aritméticas vectorizadas. Es requisito para la mayoría de los módulos que realizan operaciones de alto rendimiento. Además incluye el submodulo **numpy.random** para la generación de variables aleatorias.\n",
    "\n",
    "Para poder utilizarlo debemos agregar la siguiente linea a nuestro código:\n",
    "\n",
    "```python\n",
    "import numpy as np\n",
    "```\n",
    "\n",
    "A continuación se revisarán los comandos básicos que se utilizarán durante esta actividad, para mayor información del módulo se recomienda revisar el siguiente [tutorial](https://docs.scipy.org/doc/numpy/user/quickstart.html)\n",
    "\n",
    "<div id=\"2.1.1\"></div>\n",
    "\n",
    "## NumPy ndarray: El Objeto Arreglo Multidimensional\n",
    "\n",
    "La característica principal de NumPy es su arreglo N-dimensional, o **ndarray**, contenedor flexible y rápido para grandes conjuntos de datos en Python. Nos permiten realizar operaciones matemáticas en un bloque de datos usando una sintaxis similar a realizar operaciones con elementos escalares:\n"
   ]
  },
  {
   "cell_type": "code",
   "execution_count": 14,
   "metadata": {},
   "outputs": [
    {
     "name": "stdout",
     "output_type": "stream",
     "text": [
      "<class 'numpy.ndarray'>\n"
     ]
    },
    {
     "data": {
      "text/plain": [
       "array([[ 0.932, -0.323,  0.147],\n",
       "       [ 0.442,  0.   , -0.231]])"
      ]
     },
     "execution_count": 14,
     "metadata": {},
     "output_type": "execute_result"
    }
   ],
   "source": [
    "import numpy as np\n",
    "\n",
    "data = np.array([[0.932, -0.323, 0.147], [0.442, 0.0, -0.231]])\n",
    "\n",
    "print(type(data))\n",
    "\n",
    "data"
   ]
  },
  {
   "cell_type": "code",
   "execution_count": 13,
   "metadata": {},
   "outputs": [
    {
     "name": "stdout",
     "output_type": "stream",
     "text": [
      "[[5.03110135 5.68357962 5.42032128]\n",
      " [5.26719019 5.5        5.63005425]]\n"
     ]
    }
   ],
   "source": [
    "55 / (2*data + 10)"
   ]
  },
  {
   "cell_type": "markdown",
   "metadata": {},
   "source": [
    "Un _ndarray_ es un contenedor generico multidimensional para data homogenia; esto es, **todos los elementos deben ser del mismo tipo**. Cada array tiene su forma o **shape**, una tupla que indica el tamaño de cada dimension, y un **dtype**, un objeto que describe el tipo de la data almacenada en el array:"
   ]
  },
  {
   "cell_type": "code",
   "execution_count": 23,
   "metadata": {},
   "outputs": [
    {
     "name": "stdout",
     "output_type": "stream",
     "text": [
      "Dimensiones: 2\n",
      "Tamaño de las dimensiones del arreglo: (2, 3)\n",
      "Tipos de los elementos: float64\n"
     ]
    }
   ],
   "source": [
    "print(\"Dimensiones:\", data.ndim)\n",
    "print(\"Tamaño de las dimensiones del arreglo:\", data.shape)\n",
    "print(\"Tipos de los elementos:\", data.dtype)"
   ]
  },
  {
   "cell_type": "markdown",
   "metadata": {},
   "source": [
    "### Crear Arreglos\n",
    "\n",
    "La manera más fácil de crear arreglos es usando `np.array(iterable)`, pero existe más funciones que se adecuan a distintas necesidades."
   ]
  },
  {
   "cell_type": "code",
   "execution_count": 19,
   "metadata": {},
   "outputs": [
    {
     "name": "stdout",
     "output_type": "stream",
     "text": [
      "Array constructor\n",
      "[ 2  3  5 10 -1]\n",
      "\n",
      "Ceros:\n",
      "[[0. 0. 0.]\n",
      " [0. 0. 0.]\n",
      " [0. 0. 0.]]\n",
      "\n",
      "Unos:\n",
      "[[1. 1. 1.]\n",
      " [1. 1. 1.]\n",
      " [1. 1. 1.]]\n",
      "\n",
      "Empty:\n",
      "[[6.23042070e-307 4.67296746e-307 1.69121096e-306]\n",
      " [8.01095173e-307 1.89146896e-307 1.37961302e-306]\n",
      " [1.05699242e-307 8.01097889e-307 1.78020169e-306]\n",
      " [7.56601165e-307 1.02359984e-306 1.33510679e-306]\n",
      " [2.22522597e-306 1.60220393e-306 1.86921143e-306]\n",
      " [1.11261434e-306 2.22522596e-306 8.34426039e-308]]\n",
      "\n",
      "Range:\n",
      "[0. 1. 2. 3. 4. 5. 6. 7. 8. 9.]\n",
      "\n",
      "Regular grid:\n",
      "[0.    0.125 0.25  0.375 0.5   0.625 0.75  0.875 1.   ]\n",
      "\n",
      "Random:\n",
      "[3.10603491 5.40983354 7.55230118 8.03850933 2.89504183 6.14123277]\n"
     ]
    }
   ],
   "source": [
    "# Array constructor: np.array( python_iterable )\n",
    "print(\"Array constructor\")\n",
    "print( np.array([2, 3, 5, 10, -1]) )\n",
    "\n",
    "# Arrays de ceros: np.zeros(shape)\n",
    "print(\"\\nCeros:\")\n",
    "print( np.zeros((3,3)) )\n",
    "\n",
    "# Arrays de unos: np.ones(shape)\n",
    "print(\"\\nUnos:\")\n",
    "print( np.ones((3,3)) )\n",
    "\n",
    "# Array vacio: np.empty(shape)\n",
    "print(\"\\nEmpty:\")\n",
    "print( np.empty((6,3)) )\n",
    "\n",
    "# Range: np.range(start, stop, step)\n",
    "print(\"\\nRange:\")\n",
    "print( np.arange(0., 10., 1.) )\n",
    "\n",
    "# Regular grid: np.linspace(start, end, n_values)\n",
    "print(\"\\nRegular grid:\")\n",
    "print( np.linspace(0., 1., 9) )\n",
    "\n",
    "# Secuencia random: np.random\n",
    "print(\"\\nRandom:\")\n",
    "print( np.random.uniform(10, size=6) )"
   ]
  },
  {
   "cell_type": "markdown",
   "metadata": {},
   "source": [
    "### Operaciones matemáticas básicas\n",
    "\n",
    "La mayoría de las operaciones realizadas en NumPy son realizadas `element-wise`, por ejemplo calcular $C = A + B$ se traduce a $C[i,j] = A[i,j] + B[i,j]$."
   ]
  },
  {
   "cell_type": "code",
   "execution_count": 51,
   "metadata": {},
   "outputs": [
    {
     "name": "stdout",
     "output_type": "stream",
     "text": [
      "Sum:\n",
      "[[1.87746231 1.34619691 1.00688364 1.35039329 0.7903367 ]\n",
      " [0.78631787 1.35028896 0.87809167 0.69472171 0.6099326 ]\n",
      " [1.34881502 1.47594386 0.86652136 1.61662693 1.0405623 ]\n",
      " [0.97008204 0.60523843 0.48884535 0.25072866 1.54269173]\n",
      " [0.77925799 1.54310633 0.94258426 0.74077724 0.97822324]]\n",
      "\n",
      "Subtraction\n",
      "[[-0.07705542  0.51791215  0.36562325  0.36689453  0.4369136 ]\n",
      " [-0.1736391  -0.27837646 -0.36630099  0.4332499  -0.42021133]\n",
      " [ 0.34932525 -0.34705307  0.12702127  0.07031034 -0.30953062]\n",
      " [-0.53289708 -0.55218827  0.3803273   0.23313137  0.37011948]\n",
      " [ 0.27541564 -0.08163248 -0.8618413  -0.67800688  0.72612714]]\n",
      "\n",
      "Product\n",
      "[[0.8797318  0.38600328 0.22003358 0.42223761 0.10843465]\n",
      " [0.14703632 0.43644671 0.15921714 0.0737332  0.04886005]\n",
      " [0.42431846 0.51449111 0.18368121 0.65213477 0.24674018]\n",
      " [0.16426996 0.01535042 0.02358023 0.00212866 0.56072734]\n",
      " [0.13284731 0.59362832 0.03642367 0.0222644  0.10741502]]\n",
      "\n",
      "Matricial Product\n",
      "[[2.46989667 2.75273284 1.72250519 1.53796574 1.68316173]\n",
      " [1.13222959 1.20001104 0.64249478 0.49081423 0.84554505]\n",
      " [2.07488095 2.04914901 1.18265344 1.14212128 1.31670073]\n",
      " [0.8662819  1.4252162  1.12328772 1.12755972 0.60804937]\n",
      " [1.12452464 1.56069813 1.40921558 0.99086712 0.62263695]]\n",
      "\n",
      "Transpose\n",
      "[[0.90020345 0.30633939 0.84907014 0.21859248 0.52733682]\n",
      " [0.93205453 0.53595625 0.56444539 0.02652508 0.73073693]\n",
      " [0.68625344 0.25589534 0.49677131 0.43458633 0.04037148]\n",
      " [0.85864391 0.56398581 0.84346864 0.24193001 0.03138518]\n",
      " [0.61362515 0.09486064 0.36551584 0.95640561 0.85217519]]\n",
      "[[0.97725887 0.47997849 0.49974488 0.75148956 0.25192118]\n",
      " [0.41414238 0.81433271 0.91149847 0.57871335 0.81236941]\n",
      " [0.3206302  0.62219633 0.36975004 0.05425903 0.90221278]\n",
      " [0.49174938 0.13073591 0.7731583  0.00879865 0.70939206]\n",
      " [0.17671155 0.51507197 0.67504646 0.58628613 0.12604805]]\n",
      "\n",
      " Power\n",
      "[[8.10366243e-01 8.68725645e-01 4.70943787e-01 7.37269363e-01\n",
      "  3.76535826e-01]\n",
      " [9.38438191e-02 2.87249105e-01 6.54824268e-02 3.18079991e-01\n",
      "  8.99854016e-03]\n",
      " [7.20920097e-01 3.18598603e-01 2.46781735e-01 7.11439344e-01\n",
      "  1.33601832e-01]\n",
      " [4.77826712e-02 7.03579788e-04 1.88865276e-01 5.85301309e-02\n",
      "  9.14711683e-01]\n",
      " [2.78084118e-01 5.33976458e-01 1.62985637e-03 9.85029552e-04\n",
      "  7.26202557e-01]]\n",
      "\n",
      " np.exp()\n",
      "[[2.46010356 2.53972175 1.98625994 2.3599582  1.84711535]\n",
      " [1.35844326 1.70908178 1.29161754 1.75766427 1.09950561]\n",
      " [2.33747231 1.75847225 1.64340665 2.32441557 1.44125728]\n",
      " [1.24432408 1.02688    1.54432408 1.27370505 2.60232586]\n",
      " [1.69441376 2.07661036 1.04119749 1.03188289 2.34474157]]\n",
      "\n",
      " np.sin()\n",
      "[[0.78345336 0.80284652 0.6336432  0.7569571  0.57583504]\n",
      " [0.30157047 0.51066344 0.2531117  0.53455897 0.09471843]\n",
      " [0.75066639 0.53494732 0.4765896  0.74695382 0.35743111]\n",
      " [0.21685581 0.02652197 0.42103522 0.23957688 0.81712482]\n",
      " [0.50323374 0.66741859 0.04036051 0.03138003 0.75271422]]\n",
      "\n",
      " np.cos()\n",
      "[[0.62145059 0.59618577 0.77362542 0.65346457 0.81756591]\n",
      " [0.95344389 0.8597807  0.96743706 0.84513118 0.9955041 ]\n",
      " [0.66068145 0.84488542 0.8791259  0.66487592 0.93393951]\n",
      " [0.97620365 0.99964823 0.90704429 0.9708774  0.57646077]\n",
      " [0.86415034 0.74468277 0.99918518 0.99950753 0.65834741]]\n",
      "\n",
      " np.tan()\n",
      "[[1.26068487 1.34663817 0.81905686 1.15837512 0.70432858]\n",
      " [0.31629599 0.59394616 0.26163118 0.63251597 0.0951462 ]\n",
      " [1.13620019 0.63315961 0.54211758 1.12344846 0.38271334]\n",
      " [0.22214198 0.0265313  0.46418375 0.24676327 1.41748557]\n",
      " [0.58234513 0.89624552 0.04039343 0.03139549 1.14333892]]\n"
     ]
    }
   ],
   "source": [
    "# first we create two random arrays:\n",
    "A = np.random.random((5,5))\n",
    "B = np.random.random((5,5))\n",
    "\n",
    "# sum\n",
    "print(\"Sum:\")\n",
    "print( A+B )\n",
    "\n",
    "# subtraction\n",
    "print(\"\\nSubtraction\")\n",
    "print( A-B )\n",
    "\n",
    "# product\n",
    "print(\"\\nProduct\")\n",
    "print( A*B )\n",
    "\n",
    "# matricial product\n",
    "print(\"\\nMatricial Product\")\n",
    "print( np.dot(A,B) )\n",
    "print(\"\\nTranspose\")\n",
    "print( A.T )\n",
    "print( B.T )\n",
    "\n",
    "\n",
    "\n",
    "# power\n",
    "print(\"\\n Power\")\n",
    "print( A**2 )\n",
    "\n",
    "# Some common mathematical functions\n",
    "print(\"\\n np.exp()\")\n",
    "print( np.exp(A) )\n",
    "print(\"\\n np.sin()\")\n",
    "print( np.sin(A) )\n",
    "print(\"\\n np.cos()\")\n",
    "print( np.cos(A))\n",
    "print(\"\\n np.tan()\")\n",
    "print( np.tan(A) )"
   ]
  },
  {
   "cell_type": "markdown",
   "metadata": {},
   "source": [
    "### Operaciones Booleanas"
   ]
  },
  {
   "cell_type": "code",
   "execution_count": 22,
   "metadata": {},
   "outputs": [
    {
     "name": "stdout",
     "output_type": "stream",
     "text": [
      "A > B:\n",
      "[[False False False]\n",
      " [False False False]\n",
      " [ True  True  True]]\n",
      "\n",
      "A =< B:\n",
      "[[ True  True  True]\n",
      " [ True  True  True]\n",
      " [False False False]]\n",
      "\n",
      " A==B:\n",
      "[[ True  True  True]\n",
      " [False False  True]\n",
      " [False False False]]\n",
      "\n",
      " A!=B:\n",
      "[[False False False]\n",
      " [ True  True False]\n",
      " [ True  True  True]]\n",
      "\n",
      " A and B:\n",
      "[[ True  True  True]\n",
      " [False False  True]\n",
      " [False False False]]\n",
      "[[ True  True  True]\n",
      " [False False  True]\n",
      " [False False False]]\n",
      "\n",
      " A or B:\n",
      "[[ True  True  True]\n",
      " [False False  True]\n",
      " [ True  True  True]]\n",
      "[[ True  True  True]\n",
      " [False False  True]\n",
      " [ True  True  True]]\n",
      "\n",
      " not A:\n",
      "[[False False False]\n",
      " [ True  True False]\n",
      " [ True  True  True]]\n",
      "[[False False False]\n",
      " [ True  True False]\n",
      " [ True  True  True]]\n"
     ]
    }
   ],
   "source": [
    "# Creating two 2d-arrays\n",
    "A = np.array( [[1, 2, 3], [2, 3, 5], [1, 9, 6]] )\n",
    "B = np.array( [[1, 2, 3], [3, 5, 5], [0, 8, 5]] )\n",
    "\n",
    "print(\"A > B:\")\n",
    "print( A > B )\n",
    "\n",
    "print(\"\\nA =< B:\")\n",
    "print( A <= B )\n",
    "\n",
    "print(\"\\n A==B:\")\n",
    "print( A==B )\n",
    "\n",
    "print(\"\\n A!=B:\")\n",
    "print( A!=B )\n",
    "\n",
    "# Creating two 2d boolean arrays\n",
    "C = A==B\n",
    "D = A>=B\n",
    "\n",
    "print(\"\\n A and B:\")\n",
    "print( C & D)\n",
    "print( np.logical_and(C,D) )\n",
    "\n",
    "print(\"\\n A or B:\")\n",
    "print( C | D)\n",
    "print( np.logical_or(C,D) )\n",
    "\n",
    "print(\"\\n not A:\")\n",
    "print( ~C )\n",
    "print( np.logical_not(C))"
   ]
  },
  {
   "cell_type": "markdown",
   "metadata": {},
   "source": [
    "### Basic Indexing and Slicing\n",
    "\n",
    "Indexar en un tópico amplio en NumPy existe una variedad de formas y métodos para seleccionar un subconjunto desde tu array o elementos individuales. \n",
    "\n",
    "Un arreglo de una dimensión son similares a las listas de Python: \n"
   ]
  },
  {
   "cell_type": "code",
   "execution_count": 32,
   "metadata": {},
   "outputs": [
    {
     "name": "stdout",
     "output_type": "stream",
     "text": [
      "arr: [0 1 2 3 4 5 6 7 8 9]\n",
      "\n",
      "arr[5]: 5\n",
      "arr[5:8]: [5 6 7]\n",
      "\n",
      "arr[5:8] = 12\n",
      "arr: [ 0  1  2  3  4 12 12 12  8  9]\n",
      "\n",
      "arr_slice: [12 12 12]\n",
      "arr: [0 1 2 3 4 0 0 0 8 9]\n"
     ]
    }
   ],
   "source": [
    "# Nuevo arrray\n",
    "arr = np.arange(10)\n",
    "print(\"arr:\",arr)\n",
    "\n",
    "# Index an element\n",
    "print(\"\\narr[5]:\", arr[5])\n",
    "\n",
    "# Index a slice\n",
    "print(\"arr[5:8]:\", arr[5:8])\n",
    "\n",
    "# Change values to a slice\n",
    "print(\"\\narr[5:8] = 12\")\n",
    "arr[5:8] = 12\n",
    "print(\"arr:\",arr)\n",
    "\n",
    "# slice are references, not copies.\n",
    "arr_slice = arr[5:8]\n",
    "print(\"\\narr_slice:\", arr_slice)\n",
    "arr_slice[:] = 0\n",
    "\n",
    "print(\"arr:\", arr)"
   ]
  },
  {
   "cell_type": "markdown",
   "metadata": {},
   "source": [
    "Para *n-dimensiones*  se utiliza la sintaxis: `arr[i,j,k,...]`, cada indice se separa por una coma:"
   ]
  },
  {
   "cell_type": "code",
   "execution_count": 36,
   "metadata": {},
   "outputs": [
    {
     "name": "stdout",
     "output_type": "stream",
     "text": [
      "arr2d:\n",
      " [[1 2 3]\n",
      " [4 5 6]\n",
      " [7 8 9]]\n",
      "arr2d[2]: [7 8 9]\n",
      "arr2d[0,2]: 3\n"
     ]
    }
   ],
   "source": [
    "arr2d = np.array([[1, 2, 3], [4, 5, 6], [7, 8, 9]])\n",
    "print(\"arr2d:\\n\", arr2d)\n",
    "print(\"arr2d[2]:\",arr2d[2])\n",
    "\n",
    "print(\"arr2d[0,2]:\", arr2d[0,2])"
   ]
  },
  {
   "cell_type": "markdown",
   "metadata": {},
   "source": [
    "Para _slice_ se usa las siguientes sintaxis:\n",
    "\n",
    "1. `arr[i_0:i_n,...]`: slice desde i_0 a i_n (exclusivo),\n",
    "2. `arr[i_0:i_n: i_step,...]`: slice desde i_0 a i_n con salto de i_step.\n",
    "\n",
    "Si i_0 y/o i_n no son especificados, se utiliza el inicio y el fin del array respectivamente.\n"
   ]
  },
  {
   "cell_type": "code",
   "execution_count": 41,
   "metadata": {},
   "outputs": [
    {
     "name": "stdout",
     "output_type": "stream",
     "text": [
      "arr3d:\n",
      " [[[ 1  2  3]\n",
      "  [ 4  5  6]]\n",
      "\n",
      " [[ 7  8  9]\n",
      "  [10 11 12]]]\n",
      "\n",
      "arr3d[:2, 1:]:\n",
      " [[ 4]\n",
      " [10]]\n"
     ]
    }
   ],
   "source": [
    "arr3d = np.array([[[1, 2, 3], [4, 5, 6]], [[7, 8, 9], [10, 11, 12]]])\n",
    "\n",
    "print(\"arr3d:\\n\", arr3d)\n",
    "\n",
    "print(\"\\narr3d[:2, 1:]:\\n\", arr3d[:2, 1:, 0])"
   ]
  },
  {
   "cell_type": "markdown",
   "metadata": {},
   "source": [
    "### Boolean indexing\n",
    "\n",
    "También es posible usar _masks_ o condiciones booleanas para selecionar valores de un array."
   ]
  },
  {
   "cell_type": "code",
   "execution_count": 49,
   "metadata": {},
   "outputs": [
    {
     "name": "stdout",
     "output_type": "stream",
     "text": [
      "arr: [0 1 2 3 4 5 6 7]\n",
      "arr[mask]: [0 1 3 5 7]\n",
      "arr[arr%2 == 0]: [0 2 4 6]\n"
     ]
    }
   ],
   "source": [
    "arr = np.arange(8)\n",
    "print(\"arr:\", arr)\n",
    "\n",
    "# Implicit list\n",
    "mask = [True, True, False, True, False, True, False, True]\n",
    "print(\"arr[mask]:\", arr[mask])\n",
    "\n",
    "# Boolean condition\n",
    "print(\"arr[arr%2 == 0]:\", arr[arr%2 == 0])"
   ]
  },
  {
   "cell_type": "markdown",
   "metadata": {},
   "source": [
    "### Summarize Data\n",
    "\n",
    "Además de las funciones algebraicas, tambien incluye subrutinas comunes:"
   ]
  },
  {
   "cell_type": "code",
   "execution_count": 57,
   "metadata": {},
   "outputs": [
    {
     "name": "stdout",
     "output_type": "stream",
     "text": [
      "arr: [  5  -4   0   8   4  -7   4   4   4   5  -4  -5   9  -7  -7  -6   4   4\n",
      "  -8   2  -2  -7  -3   2 -10   4  -3   0   5   9 -10 -10   5   7  -7  -5\n",
      "  -5   8  -5  -9   1  -2   1   6   6   7   7  -1 -10  -9  -4  -9   6  -1\n",
      "   3  -1  -9   9  -1  -6   2   0   7   2  -9   2   5   1   0   7   5   9\n",
      "   5   2   1   1  -2   9   2   9  -3   1   7  -1   7   7  -4   7  -1   4\n",
      "   9  -9 -10 -10   7  -9  -4  -2 -10   5]\n",
      "\n",
      "min: -10\n",
      "max: 9\n",
      "\n",
      "mean: 0.11\n",
      "median: 1.0\n",
      "\n",
      "std: 5.949613432820658\n",
      "var: 35.39790000000001\n"
     ]
    }
   ],
   "source": [
    "arr = np.random.randint(-10, 10, 100)\n",
    "print(\"arr:\", arr)\n",
    "\n",
    "# range\n",
    "print(\"\\nmin:\", arr.min())\n",
    "print(\"max:\", arr.max())\n",
    "\n",
    "# measures of central tendency\n",
    "print(\"\\nmean:\", np.mean(arr))\n",
    "print(\"median:\", np.median(arr))\n",
    "\n",
    "# measure of the spread of a distribution\n",
    "print(\"\\nstd:\", np.std(arr))\n",
    "print(\"var:\", np.var(arr))"
   ]
  },
  {
   "cell_type": "markdown",
   "metadata": {},
   "source": [
    "<div id=\"2.1.2\"></div>\n",
    "\n",
    "### Random sampling\n",
    "\n",
    "Como habrán notados de los ejemplos anteriores, otra forma de crear arreglos es utilizando el submodulo de [`np.random`](https://docs.scipy.org/doc/numpy/reference/routines.random.html?highlight=random#module-numpy.random), este nos entrega diferentes formas de poder generar datos aleatorios:"
   ]
  },
  {
   "cell_type": "code",
   "execution_count": 76,
   "metadata": {},
   "outputs": [
    {
     "name": "stdout",
     "output_type": "stream",
     "text": [
      "np.random.random():\n",
      " [[0.58926529 0.37465487 0.1916643 ]\n",
      " [0.1658246  0.29697507 0.79442548]]\n",
      "\n",
      "(b - a) * np.random.random() + a:\n",
      " [[8.92478464 7.9562812  6.34229654]\n",
      " [5.50879487 4.91030914 6.57710606]]\n",
      "\n",
      "np.random.randint():\n",
      " [[ 3 10 -8]\n",
      " [-1  4 -7]]\n",
      "\n",
      "np.random.choice with replace:\n",
      " ['b' 'b' 'b' 'b' 'b' 'a' 'c' 'c']\n",
      "\n",
      "np.random.choice without replace:\n",
      " ['a' 'b' 'a' 'c' 'b' 'b']\n"
     ]
    }
   ],
   "source": [
    "# uniform distribution [0.0, 1.0)\n",
    "print(\"np.random.random():\\n\", np.random.random(size=(2, 3)))\n",
    "\n",
    "# uniform distribution [a, b)\n",
    "a = 4\n",
    "b = 10\n",
    "print(\"\\n(b - a) * np.random.random() + a:\\n\", (b - a) * np.random.random(size=(2, 3)) + a)\n",
    "\n",
    "# discrete (int) uniform distribution [low, high)\n",
    "low=-10\n",
    "high=11\n",
    "print(\"\\nnp.random.randint():\\n\", np.random.randint(low, high, size=(2, 3)))\n",
    "\n",
    "# Choice from 1D array with replace\n",
    "choices = [\"a\"] * 2 + [\"b\"] * 3 + [\"c\"]\n",
    "print(\"\\nnp.random.choice with replace:\\n\", np.random.choice(choices, size=8))\n",
    "\n",
    "# Choice from 1D array without replace\n",
    "print(\"\\nnp.random.choice without replace:\\n\",np.random.choice(choices, size=6, replace=False))"
   ]
  },
  {
   "cell_type": "markdown",
   "metadata": {},
   "source": [
    "#### Distribuciones\n",
    "\n",
    "random también incluye distribuciones, por ejemplo:"
   ]
  },
  {
   "cell_type": "markdown",
   "metadata": {},
   "source": [
    "##### Normal(0, 0.1)"
   ]
  },
  {
   "cell_type": "code",
   "execution_count": 78,
   "metadata": {
    "scrolled": true
   },
   "outputs": [
    {
     "data": {
      "image/png": "[encoded data removed]",
      "text/plain": [
       "<Figure size 432x288 with 1 Axes>"
      ]
     },
     "metadata": {
      "needs_background": "light"
     },
     "output_type": "display_data"
    }
   ],
   "source": [
    "import matplotlib.pyplot as plt\n",
    "\n",
    "mu, sigma = 0, 0.1 # mean and standard deviation\n",
    "s = np.random.normal(mu, sigma, 1000)\n",
    "\n",
    "count, bins, ignored = plt.hist(s, 30, density=True)\n",
    "plt.plot(bins, 1/(sigma * np.sqrt(2 * np.pi)) *\n",
    "               np.exp( - (bins - mu)**2 / (2 * sigma**2) ),\n",
    "         linewidth=2, color='r')\n",
    "plt.show()"
   ]
  },
  {
   "cell_type": "markdown",
   "metadata": {},
   "source": [
    "#### Gamma(2, 2)"
   ]
  },
  {
   "cell_type": "code",
   "execution_count": 82,
   "metadata": {},
   "outputs": [
    {
     "data": {
      "image/png": "[encoded data removed]",
      "text/plain": [
       "<Figure size 432x288 with 1 Axes>"
      ]
     },
     "metadata": {
      "needs_background": "light"
     },
     "output_type": "display_data"
    }
   ],
   "source": [
    "import scipy.special as sps\n",
    "\n",
    "shape, scale = 2., 2.  # mean=4, std=2*sqrt(2)\n",
    "s = np.random.gamma(shape, scale, 1000)\n",
    "\n",
    "count, bins, ignored = plt.hist(s, 50, density=True)\n",
    "y = bins**(shape-1)*(np.exp(-bins/scale) /\n",
    "                     (sps.gamma(shape)*scale**shape))\n",
    "plt.plot(bins, y, linewidth=2, color='r')\n",
    "plt.show()"
   ]
  },
  {
   "cell_type": "markdown",
   "metadata": {},
   "source": [
    "<div id=\"2.2\"></div>\n",
    "\n",
    "## Simulaciones\n",
    "\n",
    "<img src=\"https://i.stack.imgur.com/JRe0u.png\" width=\"60%\">\n",
    "\n",
    "Una **simulación** de computadora es la reproducción del comportamiento de un sistema usando la capacidad de computación de nuestros ordenadores para así poder **simular las salidas del modelo matemático** asociadado a dicho sistema. \n",
    "\n",
    "En nuestro caso, este modelo matemático son las probabilidades de ocurrir un evento. De esta forma, una simulación de probabilidades no es más que un **experimento** donde se intenta replicar la salida real de una observación real, de tal forma que las probabilidades de dicha observación concuerdan con lo simulado. \n",
    "\n",
    "\n",
    "<div id=\"2.2.1\"></div>\n",
    "\n",
    "### Random Walk\n",
    "\n",
    "La **caminata aleatoria** o paseo aleatorio o camino aleatorio, abreviado en inglés como RW ([**Random Walks**](https://es.wikipedia.org/wiki/Camino_aleatorio)), es una formalización matemática de la trayectoria que resulta de hacer sucesivos pasos aleatorios.\n",
    "\n",
    "En su forma más general, las caminatas aleatorias son cualquier **proceso aleatorio** donde la posición de una partícula en cierto instante depende solo de su posición en algún **instante previo** y alguna **variable aleatoria** que determina su subsecuente dirección y la longitud de paso.\n",
    "\n",
    "\n",
    "Digamos que $X(t)$, define una trayectoria que empieza en la posición $X(0) = X_0$.\n",
    "\n",
    "Un paseo aleatorio se modela mediante la siguiente expresión:\n",
    "\n",
    "$$X(t+\\tau) = X(t) + \\Phi(\\tau)$$\n",
    "\n",
    "\n",
    "Donde $\\Phi$  es la variable aleatoria que describe la ley de probabilidad para tomar el siguiente paso y  $\\tau$  es el intervalo de tiempo entre pasos subsecuentes. "
   ]
  },
  {
   "cell_type": "markdown",
   "metadata": {},
   "source": [
    "#### Simulando un random walk\n",
    "\n",
    "A continuación utilizaremos el módulo random de numpy para simular un _random walk_ con $s$ pasos.\n",
    "\n",
    "Para este caso, nuestra particula vive en un espacio unidimensional, además la particula solo puede moverse una unidad a la izquierda (-1) o una unidad a la derecha (+1) por cada intervalo de tiempo, y esta se ubica inicialmente en el origen.\n",
    "\n",
    "Revisemos su comportamiento después de $s=500$ pasos."
   ]
  },
  {
   "cell_type": "code",
   "execution_count": 185,
   "metadata": {},
   "outputs": [],
   "source": [
    "def random_walk(X_0=0, s=500):\n",
    "    # Definimos las posibles elecciones\n",
    "    step = [-1, 1]\n",
    "\n",
    "    # Sabemos que cada paso es independiente, por lo que podemos elegir alatoriamente los 1000 pasos\n",
    "    walk = np.random.choice(step, s)\n",
    "    return walk"
   ]
  },
  {
   "cell_type": "code",
   "execution_count": 190,
   "metadata": {},
   "outputs": [
    {
     "data": {
      "image/png": "[encoded data removed]",
      "text/plain": [
       "<Figure size 1080x360 with 1 Axes>"
      ]
     },
     "metadata": {
      "needs_background": "light"
     },
     "output_type": "display_data"
    }
   ],
   "source": [
    "# Cantidad de pasos\n",
    "s = 500\n",
    "\n",
    "# X_0, o posicion inicial\n",
    "X_0 = 0\n",
    "walk = random_walk(X_0, s)\n",
    "\n",
    "# Finalmente podemos sumar los pasos, para temas de visualización se realiza la cumsum\n",
    "position_by_step = np.insert(X_0  + walk.cumsum(), 0, X_0) #se agrega la posicion inicial\n",
    "final_position = X_0 +  walk.sum()\n",
    "t_step = np.arange(s + 1) + 1\n",
    "\n",
    "plt.figure(figsize=(15,5))\n",
    "plt.title(\"Random Walk con 500 pasos\")\n",
    "plt.ylabel(\"X(t)\")\n",
    "plt.xlabel(\"t\")\n",
    "\n",
    "plt.axhline(y=0, color='k')\n",
    "plt.plot(t_step, position_by_step);"
   ]
  },
  {
   "cell_type": "markdown",
   "metadata": {},
   "source": [
    "Nos interesa saber cuál es la **distancia media** a la que llegan los random walk, para esto realizaremos $n$ simulaciones y observaremos como se distribuyen sus posiciones finales."
   ]
  },
  {
   "cell_type": "code",
   "execution_count": 191,
   "metadata": {},
   "outputs": [],
   "source": [
    "def n_random_walk(X_0, s, n):\n",
    "    # Definimos las posibles elecciones\n",
    "    step = [-1, 1]\n",
    "    \n",
    "    # Sabemos que cada paso es independiente, por lo que podemos elegir alatoriamente los 10000 pasos\n",
    "    walk = np.random.choice(step, (s, n))\n",
    "    return walk\n",
    "\n",
    "# Cantidad de simulaciones\n",
    "n = 100\n",
    "\n",
    "# Cantidad de pasos\n",
    "s = 500\n",
    "\n",
    "# X_0, o posicion inicial\n",
    "X_0 = 0\n",
    "\n",
    "walk = n_random_walk(X_0, s, n)"
   ]
  },
  {
   "cell_type": "code",
   "execution_count": 195,
   "metadata": {},
   "outputs": [
    {
     "data": {
      "image/png": "[encoded data removed]",
      "text/plain": [
       "<Figure size 864x288 with 1 Axes>"
      ]
     },
     "metadata": {
      "needs_background": "light"
     },
     "output_type": "display_data"
    }
   ],
   "source": [
    "def show_random_walks(walks):\n",
    "    # Finalmente podemos sumar los pasos, para temas de visualización se realiza la cumsum\n",
    "    final_positions = X_0 +  walks.sum(axis=0)\n",
    "\n",
    "    plt.figure(figsize=(12,4))\n",
    "\n",
    "    plt.axvline(x=final_positions.mean(), color=\"k\", label=\"Mean: \"+ str(final_positions.mean()))\n",
    "    plt.hist(final_positions, bins=20);\n",
    "\n",
    "    plt.title(\"Distribución de posiciones finales - \" + str(len(final_positions)) + \" simulaciones\")\n",
    "    plt.ylabel(\"N° de simulaciones\")\n",
    "    plt.xlabel(\"X(t_final)\")\n",
    "    plt.legend();\n",
    "    \n",
    "show_random_walks(walk)"
   ]
  },
  {
   "cell_type": "markdown",
   "metadata": {},
   "source": [
    "Observemos como cambia la distribución a medida de que aumentamos las cantidad de simulaciones."
   ]
  },
  {
   "cell_type": "code",
   "execution_count": 196,
   "metadata": {},
   "outputs": [
    {
     "data": {
      "image/png": "[encoded data removed]",
      "text/plain": [
       "<Figure size 864x288 with 1 Axes>"
      ]
     },
     "metadata": {
      "needs_background": "light"
     },
     "output_type": "display_data"
    }
   ],
   "source": [
    "walks = n_random_walk(X_0, s, n=1000)\n",
    "show_random_walks(walks)"
   ]
  },
  {
   "cell_type": "code",
   "execution_count": 197,
   "metadata": {},
   "outputs": [
    {
     "data": {
      "image/png": "[encoded data removed]",
      "text/plain": [
       "<Figure size 864x288 with 1 Axes>"
      ]
     },
     "metadata": {
      "needs_background": "light"
     },
     "output_type": "display_data"
    }
   ],
   "source": [
    "walks = n_random_walk(X_0, s, n=100000)\n",
    "show_random_walks(walks)"
   ]
  },
  {
   "cell_type": "code",
   "execution_count": 200,
   "metadata": {},
   "outputs": [
    {
     "data": {
      "image/png": "[encoded data removed]",
      "text/plain": [
       "<Figure size 864x288 with 1 Axes>"
      ]
     },
     "metadata": {
      "needs_background": "light"
     },
     "output_type": "display_data"
    }
   ],
   "source": [
    "walks = n_random_walk(X_0, s, n=1000000)\n",
    "show_random_walks(walks)"
   ]
  },
  {
   "cell_type": "markdown",
   "metadata": {},
   "source": [
    "Dada nuestras simulaciones realizadas podemos concluir que: \n",
    "\n",
    "La distancia del origen esperado de un random walk de una dimension es 0."
   ]
  },
  {
   "cell_type": "markdown",
   "metadata": {},
   "source": [
    "<div id=\"2.3\"></div>\n",
    "\n",
    "## Naive Bayes\n",
    "\n",
    "\n",
    "<img src=\"http://upload.wikimedia.org/wikipedia/commons/thumb/1/18/Bayes'_Theorem_MMB_01.jpg/800px-Bayes'_Theorem_MMB_01.jpg\" width=\"40%\">\n",
    "\n",
    "### El teorema de Bayes\n",
    "\n",
    "El teorema de Bayes, es una proposición planteada por el matemático inglés Thomas Bayes que expresa la probabilidad condicional de un evento aleatorio A dado B:\n",
    "\n",
    "$$P(A|B) = \\frac{P(A)P(B|A)}{P(B)}$$\n",
    "\n",
    "Sin embargo, existe otra interpretación conocida como la **interpretación diacrónica**. Con esta interpretacion obtenemos una expresión que nos indica como actualizar nuestra creencia de una hipotesis inicial **H** la evidencia entregada por los datos __D__.\n",
    "\n",
    "$$P(H|D) = P(H)\\frac{P(D|H)}{P(D)}$$\n",
    "\n",
    "En esta interpretación los terminos son conocidos como:\n",
    "\n",
    "   * $P(H)$: Priori, la probabilidad de la hipotesis antes de ver los datos.\n",
    "   * $P(H|D)$: Posteriori, la probabilidad de la hipotesis antes de ver los datos, lo que queremos computar.\n",
    "   * $P(D|H)$: Likehood, la probabilidad de la evidencia bajo una hipotesis.\n",
    "   * $P(D)$: Constante de normalización, la probabilidad de la evidencia bajo cualquier hipotesis.\n",
    "\n",
    "### Naive Bayes\n",
    "\n",
    "Naive Bayes es un algoritmo de _aprendizaje supervisado_ que aplica el teórema de Bayes con el supuesto _ingenuo_ (naive) de la independencia condicional entre los pares de caracteristicas dado la clase a que pertenece. El teorema de Bayes nos entrega la siguiente relación para la probabilidad de la clase $ y $ dado las caracteristicas $ x_i $.\n",
    "\n",
    "\n",
    "$$ P(y|x_0,...,x_i,...,x_n) = P(y)\\frac{P(x_0,...,x_i,...,x_n|y)}{P(x_0,...,x_i,...,x_n)} $$\n",
    "\n",
    "Dado el supuesto de independencia esto se simplifica a:\n",
    "\n",
    " \n",
    "$$P(y|x_0,...,x_i,...,x_n) = P(y)\\frac{ \\prod _{i=0}^{n} P(x_i|y)}{\\prod_{i=0}^{n}P(x_i)}$$\n",
    "\n",
    "<div id=\"2.3.1\"></div>\n",
    "\n",
    "### Sport day case\n",
    "\n",
    "Veremos como se puede utilizar Naive Bayes para poder determinar la probabilidad de un evento. En este caso veremos si saldremos a hacer deportes dado las condiciones del clima y la temperatura.\n",
    "\n",
    "Nos interesa el caso particular de **hacer deportes** si está soleado (**Sunny**), frio (**Cool**), hace viento (**Yes**) y la humedad es alta (**High**).\n",
    "\n",
    "La expresión de esta probabilidad según Bayes y el supuesto de independencia viene dada por:\n",
    "\n",
    "$P(play=Y|temp=C,weather=S,windy=Y,humidity=H) = P(play=Y) \\frac{P(temp=C|play=Y)P(weather=S|play=Y)P(humidity=H|play=Y)P(windy=Y|play=Y)}{P(temp=C)P(weather=S)P(humidity=H)P(windy=Y)}$\n",
    "\n",
    "#### El dataset\n",
    "\n",
    "Disponemos del siguiente dataset de dias anteriores:"
   ]
  },
  {
   "cell_type": "code",
   "execution_count": 2,
   "metadata": {},
   "outputs": [
    {
     "data": {
      "text/html": [
       "<div>\n",
       "<style scoped>\n",
       "    .dataframe tbody tr th:only-of-type {\n",
       "        vertical-align: middle;\n",
       "    }\n",
       "\n",
       "    .dataframe tbody tr th {\n",
       "        vertical-align: top;\n",
       "    }\n",
       "\n",
       "    .dataframe thead th {\n",
       "        text-align: right;\n",
       "    }\n",
       "</style>\n",
       "<table border=\"1\" class=\"dataframe\">\n",
       "  <thead>\n",
       "    <tr style=\"text-align: right;\">\n",
       "      <th></th>\n",
       "      <th>weather</th>\n",
       "      <th>temp</th>\n",
       "      <th>humidity</th>\n",
       "      <th>windy</th>\n",
       "      <th>play</th>\n",
       "    </tr>\n",
       "  </thead>\n",
       "  <tbody>\n",
       "    <tr>\n",
       "      <th>0</th>\n",
       "      <td>Sunny</td>\n",
       "      <td>Hot</td>\n",
       "      <td>High</td>\n",
       "      <td>No</td>\n",
       "      <td>No</td>\n",
       "    </tr>\n",
       "    <tr>\n",
       "      <th>1</th>\n",
       "      <td>Sunny</td>\n",
       "      <td>Hot</td>\n",
       "      <td>High</td>\n",
       "      <td>Yes</td>\n",
       "      <td>No</td>\n",
       "    </tr>\n",
       "    <tr>\n",
       "      <th>2</th>\n",
       "      <td>Overcast</td>\n",
       "      <td>Hot</td>\n",
       "      <td>High</td>\n",
       "      <td>No</td>\n",
       "      <td>Yes</td>\n",
       "    </tr>\n",
       "    <tr>\n",
       "      <th>3</th>\n",
       "      <td>Rainy</td>\n",
       "      <td>Mild</td>\n",
       "      <td>High</td>\n",
       "      <td>No</td>\n",
       "      <td>Yes</td>\n",
       "    </tr>\n",
       "    <tr>\n",
       "      <th>4</th>\n",
       "      <td>Rainy</td>\n",
       "      <td>Cool</td>\n",
       "      <td>Normal</td>\n",
       "      <td>No</td>\n",
       "      <td>Yes</td>\n",
       "    </tr>\n",
       "    <tr>\n",
       "      <th>5</th>\n",
       "      <td>Rainy</td>\n",
       "      <td>Cool</td>\n",
       "      <td>Normal</td>\n",
       "      <td>Yes</td>\n",
       "      <td>No</td>\n",
       "    </tr>\n",
       "    <tr>\n",
       "      <th>6</th>\n",
       "      <td>Overcast</td>\n",
       "      <td>Cool</td>\n",
       "      <td>Normal</td>\n",
       "      <td>Yes</td>\n",
       "      <td>Yes</td>\n",
       "    </tr>\n",
       "    <tr>\n",
       "      <th>7</th>\n",
       "      <td>Sunny</td>\n",
       "      <td>Mild</td>\n",
       "      <td>High</td>\n",
       "      <td>No</td>\n",
       "      <td>No</td>\n",
       "    </tr>\n",
       "    <tr>\n",
       "      <th>8</th>\n",
       "      <td>Sunny</td>\n",
       "      <td>Cool</td>\n",
       "      <td>Normal</td>\n",
       "      <td>No</td>\n",
       "      <td>Yes</td>\n",
       "    </tr>\n",
       "    <tr>\n",
       "      <th>9</th>\n",
       "      <td>Rainy</td>\n",
       "      <td>Mild</td>\n",
       "      <td>Normal</td>\n",
       "      <td>No</td>\n",
       "      <td>Yes</td>\n",
       "    </tr>\n",
       "    <tr>\n",
       "      <th>10</th>\n",
       "      <td>Sunny</td>\n",
       "      <td>Mild</td>\n",
       "      <td>Normal</td>\n",
       "      <td>Yes</td>\n",
       "      <td>Yes</td>\n",
       "    </tr>\n",
       "    <tr>\n",
       "      <th>11</th>\n",
       "      <td>Overcast</td>\n",
       "      <td>Mild</td>\n",
       "      <td>High</td>\n",
       "      <td>Yes</td>\n",
       "      <td>Yes</td>\n",
       "    </tr>\n",
       "    <tr>\n",
       "      <th>12</th>\n",
       "      <td>Overcast</td>\n",
       "      <td>Hot</td>\n",
       "      <td>Normal</td>\n",
       "      <td>No</td>\n",
       "      <td>Yes</td>\n",
       "    </tr>\n",
       "    <tr>\n",
       "      <th>13</th>\n",
       "      <td>Rainy</td>\n",
       "      <td>Mild</td>\n",
       "      <td>High</td>\n",
       "      <td>Yes</td>\n",
       "      <td>No</td>\n",
       "    </tr>\n",
       "  </tbody>\n",
       "</table>\n",
       "</div>"
      ],
      "text/plain": [
       "     weather  temp humidity windy play\n",
       "0      Sunny   Hot     High    No   No\n",
       "1      Sunny   Hot     High   Yes   No\n",
       "2   Overcast   Hot     High    No  Yes\n",
       "3      Rainy  Mild     High    No  Yes\n",
       "4      Rainy  Cool   Normal    No  Yes\n",
       "5      Rainy  Cool   Normal   Yes   No\n",
       "6   Overcast  Cool   Normal   Yes  Yes\n",
       "7      Sunny  Mild     High    No   No\n",
       "8      Sunny  Cool   Normal    No  Yes\n",
       "9      Rainy  Mild   Normal    No  Yes\n",
       "10     Sunny  Mild   Normal   Yes  Yes\n",
       "11  Overcast  Mild     High   Yes  Yes\n",
       "12  Overcast   Hot   Normal    No  Yes\n",
       "13     Rainy  Mild     High   Yes   No"
      ]
     },
     "execution_count": 2,
     "metadata": {},
     "output_type": "execute_result"
    }
   ],
   "source": [
    "import pandas as pd\n",
    "\n",
    "data = {\n",
    "    \"weather\": ['Sunny','Sunny','Overcast','Rainy','Rainy','Rainy','Overcast','Sunny','Sunny','Rainy','Sunny','Overcast','Overcast','Rainy'],\n",
    "    \"temp\":['Hot','Hot','Hot','Mild','Cool','Cool','Cool','Mild','Cool','Mild','Mild','Mild','Hot','Mild'],\n",
    "    \"humidity\" : [\"High\", \"High\", \"High\", \"High\",\"Normal\",\"Normal\",\"Normal\",\"High\",\"Normal\",\"Normal\",\"Normal\",\"High\",\"Normal\",\"High\"],\n",
    "    \"windy\": [\"No\",\"Yes\",\"No\",\"No\",\"No\",\"Yes\",\"Yes\",\"No\",\"No\",\"No\",\"Yes\",\"Yes\",\"No\", \"Yes\"],\n",
    "    \"play\":['No','No','Yes','Yes','Yes','No','Yes','No','Yes','Yes','Yes','Yes','Yes','No']\n",
    "}\n",
    "\n",
    "\n",
    "data = pd.DataFrame(data)\n",
    "data\n"
   ]
  },
  {
   "cell_type": "markdown",
   "metadata": {},
   "source": [
    "#### Priori\n",
    "\n",
    "El primer termino que necesitamos es el __priori__, como no tenemos conocimientos previos de la situación, una buena aproximación es la cantidad de casos favorables del dataset."
   ]
  },
  {
   "cell_type": "code",
   "execution_count": 3,
   "metadata": {},
   "outputs": [
    {
     "data": {
      "text/plain": [
       "0.6428571428571429"
      ]
     },
     "execution_count": 3,
     "metadata": {},
     "output_type": "execute_result"
    }
   ],
   "source": [
    "prior = data[\"play\"].value_counts(normalize=True)[\"Yes\"]\n",
    "prior"
   ]
  },
  {
   "cell_type": "markdown",
   "metadata": {},
   "source": [
    "#### Likehood\n",
    "\n",
    "Calculamos la probabilidad de nuestras condiciones dado se da el caso favorable.\n"
   ]
  },
  {
   "cell_type": "code",
   "execution_count": 6,
   "metadata": {},
   "outputs": [
    {
     "data": {
      "text/plain": [
       "0.008230452674897118"
      ]
     },
     "execution_count": 6,
     "metadata": {},
     "output_type": "execute_result"
    }
   ],
   "source": [
    "favorable_data = data[data[\"play\"] == \"Yes\"]\n",
    "\n",
    "likehood_sunny = favorable_data[\"weather\"].value_counts(normalize=True)[\"Sunny\"]\n",
    "likehood_cool = favorable_data[\"temp\"].value_counts(normalize=True)[\"Cool\"]\n",
    "likehood_high = favorable_data[\"humidity\"].value_counts(normalize=True)[\"High\"]\n",
    "likehood_strong = favorable_data[\"windy\"].value_counts(normalize=True)[\"Yes\"]\n",
    "\n",
    "\n",
    "likehood = likehood_sunny * likehood_cool * likehood_strong * likehood_strong\n",
    "likehood"
   ]
  },
  {
   "cell_type": "markdown",
   "metadata": {},
   "source": [
    "#### Constante de normalizacion\n",
    "\n",
    "Solo nos falta determinar las probabilidades de las condiciones par cualquier hipotesis."
   ]
  },
  {
   "cell_type": "code",
   "execution_count": 8,
   "metadata": {},
   "outputs": [
    {
     "data": {
      "text/plain": [
       "0.021865889212827987"
      ]
     },
     "execution_count": 8,
     "metadata": {},
     "output_type": "execute_result"
    }
   ],
   "source": [
    "const_sunny = data[\"weather\"].value_counts(normalize=True)[\"Sunny\"]\n",
    "const_cool = data[\"temp\"].value_counts(normalize=True)[\"Cool\"]\n",
    "const_high = data[\"humidity\"].value_counts(normalize=True)[\"High\"]\n",
    "const_strong = data[\"windy\"].value_counts(normalize=True)[\"Yes\"]\n",
    "\n",
    "const = const_sunny * const_cool * const_high * const_strong\n",
    "\n",
    "const"
   ]
  },
  {
   "cell_type": "markdown",
   "metadata": {},
   "source": [
    "#### ¿Deberiamos hacer deporte hoy?\n",
    "\n",
    "Metemos todos nuestros calculos a la formula y ...\n",
    "\n"
   ]
  },
  {
   "cell_type": "code",
   "execution_count": 9,
   "metadata": {},
   "outputs": [
    {
     "data": {
      "text/plain": [
       "0.2419753086419753"
      ]
     },
     "execution_count": 9,
     "metadata": {},
     "output_type": "execute_result"
    }
   ],
   "source": [
    "posterior = prior * likehood / const\n",
    "posterior"
   ]
  },
  {
   "cell_type": "markdown",
   "metadata": {},
   "source": [
    "Dada la baja  probabilidad, parece ser que no. Sin embargo se debe calcular la probabilidad de **No hacer deportes** dada las condiciones. Si esta segunda probabilidad es mayor, entonces no se debe hacer deportes. "
   ]
  }
 ],
 "metadata": {
  "kernelspec": {
   "display_name": "Python 3",
   "language": "python",
   "name": "python3"
  },
  "language_info": {
   "codemirror_mode": {
    "name": "ipython",
    "version": 3
   },
   "file_extension": ".py",
   "mimetype": "text/x-python",
   "name": "python",
   "nbconvert_exporter": "python",
   "pygments_lexer": "ipython3",
   "version": "3.7.3"
  }
 },
 "nbformat": 4,
 "nbformat_minor": 2
}
